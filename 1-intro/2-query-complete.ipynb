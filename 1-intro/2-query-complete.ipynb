{
 "cells": [
  {
   "cell_type": "markdown",
   "metadata": {},
   "source": [
    "# Time to Build"
   ]
  },
  {
   "cell_type": "markdown",
   "metadata": {},
   "source": [
    "## Connect to Weaviate"
   ]
  },
  {
   "cell_type": "code",
   "execution_count": 1,
   "metadata": {},
   "outputs": [
    {
     "name": "stdout",
     "output_type": "stream",
     "text": [
      "embedded weaviate is already listening on port 8079\n"
     ]
    },
    {
     "data": {
      "text/plain": [
       "True"
      ]
     },
     "execution_count": 1,
     "metadata": {},
     "output_type": "execute_result"
    }
   ],
   "source": [
    "import weaviate, os\n",
    "\n",
    "# Connect with Weaviate Embedded\n",
    "client = weaviate.connect_to_embedded(\n",
    "    headers={\n",
    "        \"X-OpenAI-Api-Key\": os.environ['OPENAI_API_KEY'], # Replace with your inference API key\n",
    "        \"X-Cohere-Api-Key\": os.environ['COHERE_API_KEY'], # Replace with your inference API key\n",
    "    })\n",
    "\n",
    "client.is_ready()"
   ]
  },
  {
   "cell_type": "markdown",
   "metadata": {},
   "source": [
    "## Vector search\n",
    "[Docs - near_text](https://weaviate.io/developers/weaviate/search/similarity#an-input-medium)"
   ]
  },
  {
   "cell_type": "code",
   "execution_count": 6,
   "metadata": {},
   "outputs": [
    {
     "name": "stdout",
     "output_type": "stream",
     "text": [
      "{'question': 'An adorable wind instrument', 'value': 300.0, 'airDate': '2001-01-01', 'answer': 'Cute flute', 'round': 'Jeopardy!', 'category': 'RHYME TIME'}\n",
      "{'question': \"In this type of crab, the male has a large claw & waves it like a violinist's bow\", 'value': 400.0, 'airDate': '1993-11-17', 'answer': 'Fiddler crab', 'round': 'Jeopardy!', 'category': 'ANIMALS'}\n",
      "{'round': 'Double Jeopardy!', 'value': 1000.0, 'airDate': '1998-05-11', 'answer': 'Virtuoso', 'question': 'This noun from the Italian for \"skilled\" is often applied to top musicians', 'category': 'WORD ORIGINS'}\n",
      "{'question': 'This Mozart opera is set in part in the temple of Isis in Egypt', 'value': 600.0, 'answer': 'The Magic Flute', 'airDate': '1998-02-11', 'round': 'Double Jeopardy!', 'category': 'OPERA'}\n",
      "{'question': 'In this Belgian surrealist\\'s 1928 work \"Threatening Weather\", the clouds have the shapes of a tuba, a chair & a torso', 'value': 400.0, 'airDate': '2003-05-08', 'answer': 'Rene Magritte', 'round': 'Double Jeopardy!', 'category': 'ART & ARTISTS'}\n"
     ]
    }
   ],
   "source": [
    "import weaviate\n",
    "questions = client.collections.get(\"Questions\")\n",
    "\n",
    "response = questions.query.near_text(\n",
    "    query=\"musical instruments\",\n",
    "    limit=5\n",
    ")\n",
    "\n",
    "for item in response.objects:\n",
    "    print(item.properties)"
   ]
  },
  {
   "cell_type": "markdown",
   "metadata": {},
   "source": [
    "## Search with filters\n",
    "[Docs - Filters](https://weaviate.io/developers/weaviate/search/filters)"
   ]
  },
  {
   "cell_type": "markdown",
   "metadata": {},
   "source": []
  },
  {
   "cell_type": "code",
   "execution_count": 7,
   "metadata": {},
   "outputs": [
    {
     "name": "stdout",
     "output_type": "stream",
     "text": [
      "{'round': 'Double Jeopardy!', 'value': 1000.0, 'airDate': '1998-05-11', 'answer': 'Virtuoso', 'question': 'This noun from the Italian for \"skilled\" is often applied to top musicians', 'category': 'WORD ORIGINS'}\n",
      "{'question': 'This Mozart opera is set in part in the temple of Isis in Egypt', 'value': 600.0, 'airDate': '1998-02-11', 'answer': 'The Magic Flute', 'round': 'Double Jeopardy!', 'category': 'OPERA'}\n",
      "{'question': 'Learn fiddle & gee-tar at the Blair school of music of this university--it is in Nashville, after all', 'value': 800.0, 'airDate': '2011-07-27', 'answer': 'Vanderbilt', 'round': 'Double Jeopardy!', 'category': 'COLLEGES & UNIVERSITIES'}\n",
      "{'round': 'Jeopardy!', 'value': 800.0, 'airDate': '2003-09-10', 'answer': 'The Little Drummer Girl', 'question': 'An actress is recruited to infiltrate a terrorist group in this John le Carre bestseller -- pa rum pum pum pum', 'category': 'BOOKS & AUTHORS'}\n",
      "{'round': 'Double Jeopardy!', 'value': 1600.0, 'airDate': '2003-02-25', 'answer': 'Giuseppe Verdi', 'question': 'The story & the music of the ballet \"Revenge\" come from this composer\\'s opera \"Il Trovatore\"', 'category': 'BALLET'}\n"
     ]
    }
   ],
   "source": [
    "import weaviate\n",
    "import weaviate.classes as wvc\n",
    "questions = client.collections.get(\"Questions\")\n",
    "\n",
    "response = questions.query.near_text(\n",
    "    query=\"musical instruments\",\n",
    "    limit=5,\n",
    "    filters=wvc.Filter(\"value\").greater_than(500)\n",
    ")\n",
    "\n",
    "for item in response.objects:\n",
    "    print(item.properties)"
   ]
  },
  {
   "cell_type": "markdown",
   "metadata": {},
   "source": [
    "## Hybrid search\n",
    "[Docs - hybrid](https://weaviate.io/developers/weaviate/search/hybrid)"
   ]
  },
  {
   "cell_type": "code",
   "execution_count": 8,
   "metadata": {},
   "outputs": [
    {
     "name": "stdout",
     "output_type": "stream",
     "text": [
      "{'question': 'Navigational instruments are displayed at the Maritime Museum near Franklin Court in this Penn. city', 'value': 200.0, 'airDate': '1996-01-30', 'answer': 'Philadelphia', 'round': 'Jeopardy!', 'category': 'POTPOURRI'}\n",
      "{'question': 'Disney musical about a pretty girl named Belle & her hideous camel', 'value': 400.0, 'airDate': '2003-03-11', 'answer': 'Beauty and the Beast of Burden', 'round': 'Double Jeopardy!', 'category': 'BEFORE & AFTER'}\n",
      "{'question': 'Battle of the sexes on which musical \"Kiss Me Kate\" was based', 'value': 600.0, 'answer': 'The Taming of the Shrew', 'airDate': '1984-09-14', 'round': 'Double Jeopardy!', 'category': 'SHAKESPEARE'}\n",
      "{'round': 'Jeopardy!', 'value': 300.0, 'airDate': '2001-01-01', 'answer': 'Cute flute', 'question': 'An adorable wind instrument', 'category': 'RHYME TIME'}\n",
      "{'round': 'Jeopardy!', 'value': 400.0, 'airDate': '1993-11-17', 'answer': 'Fiddler crab', 'question': \"In this type of crab, the male has a large claw & waves it like a violinist's bow\", 'category': 'ANIMALS'}\n"
     ]
    }
   ],
   "source": [
    "import weaviate\n",
    "import weaviate.classes as wvc\n",
    "questions = client.collections.get(\"Questions\")\n",
    "\n",
    "response = questions.query.hybrid(\n",
    "    query=\"musical instruments\",\n",
    "    alpha=0.7,\n",
    "    limit=5,\n",
    ")\n",
    "\n",
    "for item in response.objects:\n",
    "    print(item.properties)"
   ]
  },
  {
   "cell_type": "markdown",
   "metadata": {},
   "source": [
    "## Retrieval Augmented Generation!!!\n",
    "[Docs - RAG](https://weaviate.io/developers/weaviate/search/generative)"
   ]
  },
  {
   "cell_type": "code",
   "execution_count": 10,
   "metadata": {},
   "outputs": [
    {
     "name": "stdout",
     "output_type": "stream",
     "text": [
      "{'question': 'An adorable wind instrument', 'value': 300.0, 'airDate': '2001-01-01', 'answer': 'Cute flute', 'round': 'Jeopardy!', 'category': 'RHYME TIME'}\n",
      "Just discovered the cutest little wind instrument! Its sweet sound is as charming as its\n",
      "{'round': 'Jeopardy!', 'value': 400.0, 'airDate': '1993-11-17', 'answer': 'Fiddler crab', 'question': \"In this type of crab, the male has a large claw & waves it like a violinist's bow\", 'category': 'ANIMALS'}\n",
      "Just discovered a fascinating crab species where the male sports a large claw and waves it like a virtuoso violinist! Nature's own orchestra! 🦀\n",
      "{'round': 'Double Jeopardy!', 'value': 1000.0, 'airDate': '1998-05-11', 'answer': 'Virtuoso', 'question': 'This noun from the Italian for \"skilled\" is often applied to top musicians', 'category': 'WORD ORIGINS'}\n",
      "Did you know? The term \"virtuoso\", derived from the Italian word for \"skilled\", is often used to describe top musicians.\n",
      "{'question': 'This Mozart opera is set in part in the temple of Isis in Egypt', 'value': 600.0, 'airDate': '1998-02-11', 'answer': 'The Magic Flute', 'round': 'Double Jeopardy!', 'category': 'OPERA'}\n",
      "Just discovered that part of this mesmerizing Mozart opera is set in the mystical temple of Isis in Egypt! The fusion of music and ancient\n"
     ]
    }
   ],
   "source": [
    "import weaviate\n",
    "import weaviate.classes as wvc\n",
    "questions = client.collections.get(\"Questions\")\n",
    "\n",
    "response = questions.generate.near_text(\n",
    "    query=\"musical instruments\",\n",
    "    limit=4,\n",
    "    single_prompt=\"Write a short tweet about: {question}\"\n",
    ")\n",
    "\n",
    "for item in response.objects:\n",
    "    print(item.properties)\n",
    "    print(item.generated)\n"
   ]
  },
  {
   "cell_type": "code",
   "execution_count": 11,
   "metadata": {},
   "outputs": [
    {
     "name": "stdout",
     "output_type": "stream",
     "text": [
      "This content is about a collection of questions and answers from the game show \"Jeopardy!\". Each entry includes the air date of the episode, the answer to the question, the category of the question, the question itself, and the round in which the question was asked. The categories include \"Rhyme Time\", \"Animals\", \"Word Origins\", and \"Opera\". The questions range from a rhyming clue about a wind instrument, to a fact about a type of crab, to the origin of a word often used for skilled musicians, to a question about a Mozart opera.\n"
     ]
    }
   ],
   "source": [
    "import weaviate\n",
    "import weaviate.classes as wvc\n",
    "questions = client.collections.get(\"Questions\")\n",
    "\n",
    "response = questions.generate.near_text(\n",
    "    query=\"musical instruments\",\n",
    "    limit=4,\n",
    "    grouped_task=\"Explain what this content is about.\"\n",
    ")\n",
    "\n",
    "print (response.generated)"
   ]
  }
 ],
 "metadata": {
  "kernelspec": {
   "display_name": "Python 3",
   "language": "python",
   "name": "python3"
  },
  "language_info": {
   "codemirror_mode": {
    "name": "ipython",
    "version": 3
   },
   "file_extension": ".py",
   "mimetype": "text/x-python",
   "name": "python",
   "nbconvert_exporter": "python",
   "pygments_lexer": "ipython3",
   "version": "3.11.5"
  }
 },
 "nbformat": 4,
 "nbformat_minor": 2
}
